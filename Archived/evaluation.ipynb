{
 "cells": [
  {
   "cell_type": "code",
   "execution_count": 5,
   "metadata": {},
   "outputs": [
    {
     "name": "stderr",
     "output_type": "stream",
     "text": [
      "100%|██████████| 14/14 [00:38<00:00,  2.74s/it]"
     ]
    },
    {
     "name": "stdout",
     "output_type": "stream",
     "text": [
      "          title      address                                    access   age  \\\n",
      "0   キャナルスクウェア豊洲  東京都江東区豊洲１丁目   東京メトロ有楽町線 月島駅 徒歩17分, 東京メトロ有楽町線 豊洲駅 徒歩9分  15.0   \n",
      "1   キャナルスクウェア豊洲  東京都江東区豊洲１丁目   東京メトロ有楽町線 月島駅 徒歩17分, 東京メトロ有楽町線 豊洲駅 徒歩9分  15.0   \n",
      "2   キャナルスクウェア豊洲  東京都江東区豊洲１丁目   東京メトロ有楽町線 月島駅 徒歩17分, 東京メトロ有楽町線 豊洲駅 徒歩9分  15.0   \n",
      "3   プライムメゾン清澄白河  東京都江東区平野２丁目  都営大江戸線 清澄白河駅 徒歩10分, 東京メトロ東西線 門前仲町駅 徒歩11分   1.0   \n",
      "4   プライムメゾン清澄白河  東京都江東区平野２丁目  都営大江戸線 清澄白河駅 徒歩10分, 東京メトロ東西線 門前仲町駅 徒歩11分   1.0   \n",
      "\n",
      "   story  floor room_number   fee  management_fee  deposit  ...  access1_1  \\\n",
      "0   23.0    8.0       816号室  18.3             0.8     18.3  ...  東京メトロ有楽町線   \n",
      "1   23.0    3.0       316号室  17.3             0.8     17.3  ...  東京メトロ有楽町線   \n",
      "2   23.0    3.0       314号室  17.3             0.8     17.3  ...  東京メトロ有楽町線   \n",
      "3    7.0    2.0      0203号室  11.6             1.0      0.0  ...     都営大江戸線   \n",
      "4    7.0    2.0      0201号室  17.6             1.0      0.0  ...     都営大江戸線   \n",
      "\n",
      "  access1_2  access1_3  access2_1 access2_2 access2_3 scraped_date_time  \\\n",
      "0       月島駅         17  東京メトロ有楽町線       豊洲駅         9  2024-01-17 08:52   \n",
      "1       月島駅         17  東京メトロ有楽町線       豊洲駅         9  2024-01-17 08:52   \n",
      "2       月島駅         17  東京メトロ有楽町線       豊洲駅         9  2024-01-17 08:52   \n",
      "3     清澄白河駅         10   東京メトロ東西線     門前仲町駅        11  2024-01-17 08:52   \n",
      "4     清澄白河駅         10   東京メトロ東西線     門前仲町駅        11  2024-01-17 08:52   \n",
      "\n",
      "  daily_decreased_room weekly_decreased_room evaluation_score  \n",
      "0                 None                  None             None  \n",
      "1                 None                  None             None  \n",
      "2                 None                  None             None  \n",
      "3                 None                  None             None  \n",
      "4                 None                  None             None  \n",
      "\n",
      "[5 rows x 23 columns]\n"
     ]
    },
    {
     "name": "stderr",
     "output_type": "stream",
     "text": [
      "\n"
     ]
    }
   ],
   "source": [
    "\n",
    "import requests\n",
    "from bs4 import BeautifulSoup\n",
    "from pprint import pprint\n",
    "import time\n",
    "import pandas as pd\n",
    "import re\n",
    "from tqdm import tqdm\n",
    "import streamlit as st\n",
    "import sqlite3\n",
    "\n",
    "\n",
    "# In[2]:\n",
    "\n",
    "\n",
    "def extract_number(text, return_type=float):\n",
    "    \"\"\"テキスト内から数字を取り出して返す（float or int）\n",
    "\n",
    "    Parameters:\n",
    "    ----------\n",
    "    text : str\n",
    "        数字が入ったテキスト\n",
    "    return_type : type\n",
    "        返す値の型。引数なしではfloat型となる\n",
    "\n",
    "    Returns:\n",
    "    ----------\n",
    "    型：return_typeで選択した型\n",
    "        textから取り出した数字を返す\n",
    "    \"\"\"\n",
    "    matched_text = re.search(r'\\d+(\\.\\d+)?', text)\n",
    "    if matched_text:\n",
    "        number = matched_text.group()\n",
    "        if return_type == int:\n",
    "            return int(float(number))  # floatへの変換後にintへ変換\n",
    "        else:\n",
    "            return float(number)\n",
    "    else:\n",
    "        return 0 if return_type == int else 0.0\n",
    "\n",
    "\n",
    "# In[15]:\n",
    "\n",
    "\n",
    "# Airdoorデータ取得\n",
    "d_list = []\n",
    "url = 'https://airdoor.jp/list?si=d-131083&p={}'\n",
    "\n",
    "for i in tqdm(range(1,15)):\n",
    "    target_url = url.format(i)\n",
    "    r = requests.get(target_url)\n",
    "    time.sleep(1) # 1秒ずつ\n",
    "    soup = BeautifulSoup(r.text,\"html.parser\")\n",
    "    contents = soup.find_all('div', {'class': 'PropertyPanel_propertyPanel__8oJ13'}) or None\n",
    "    for content in contents:\n",
    "        # タイトル\n",
    "        title = content.find('div', {'class': 'PropertyPanelBuilding_buildingTitle__tuPqN'}).get_text(strip=True) or None\n",
    "        # 住所\n",
    "        building_info = content.find_all('div', {'class': 'PropertyPanelBuilding_buildingInformationSection__deSLp'})\n",
    "        address = building_info[0].find('p', {'class': 'is-mt5'}).get_text(strip=True) or None\n",
    "        access = ', '.join(p.get_text() for p in building_info[0].find_all('p', {'class': False})) or None\n",
    "        # 築年数、総階数\n",
    "        p_tags = building_info[1].find_all('p')\n",
    "        age = re.search(r'\\((.*?)\\)', p_tags[0].get_text()).group(1) or '築0年'\n",
    "        story = p_tags[1].get_text(strip=True)\n",
    "        # 階数、間取り、面積\n",
    "        roomItems = content.findAll('a', {'class': 'PropertyPanelRoom_roomItem__95jRr'})\n",
    "        for roomItem in roomItems:\n",
    "            p_tag_text = roomItem.find('span', {'class': 'is-ml5'}).get_text(strip=True)\n",
    "            room_number, madori, menseki, hogaku = [part.strip() for part in p_tag_text.split('/')]\n",
    "            # 階数\n",
    "            floor = re.findall(r'\\d+', room_number)[0][:-2] if re.findall(r'\\d+', room_number) and len(re.findall(r'\\d+', room_number)[0]) > 2 else '1'\n",
    "            # 家賃、管理費\n",
    "            div_text = roomItem.find('div', {'class': 'PropertyPanelRoom_rentPrice__XdPUp'}).text\n",
    "            fee = div_text.split()[0].replace(',', '') or '0円'\n",
    "            management_fee = div_text.split()[1].replace(',', '') or '0円'\n",
    "            # 敷金、礼金\n",
    "            div = roomItem.find('div', {'class': 'PropertyPanelRoom_initialPrices__d90C3'})\n",
    "            deposit = div.find_all('li')[0].get_text(strip=True) or '0円'\n",
    "            gratuity = div.find_all('li')[1].get_text(strip=True) or '0円'\n",
    "            d = {\n",
    "                'title': title,\n",
    "                'address': address,\n",
    "                'access': access,\n",
    "                'age': age,\n",
    "                'story': story,\n",
    "                'floor': floor,\n",
    "                'room_number': room_number,\n",
    "                'fee': fee,\n",
    "                'management_fee': management_fee,\n",
    "                'deposit': deposit,\n",
    "                'gratuity': gratuity,\n",
    "                'madori': madori,\n",
    "                'menseki': menseki,\n",
    "            }\n",
    "            d_list.append(d)\n",
    "df_airdoor = pd.DataFrame(d_list)\n",
    "\n",
    "\n",
    "# In[16]:\n",
    "\n",
    "\n",
    "df_airdoor['title'] = df_airdoor['title'].str.replace(r'【.*?】', '', regex=True)\n",
    "df_airdoor['fee'] = df_airdoor['fee'].apply(extract_number)/10000\n",
    "df_airdoor['management_fee'] = df_airdoor['management_fee'].apply(extract_number)/10000\n",
    "df_airdoor['deposit'] = df_airdoor['deposit'].apply(lambda x: \"0円\" if x in [\"無料\"] else x).apply(extract_number)\n",
    "df_airdoor['gratuity'] = df_airdoor['gratuity'].apply(lambda x: \"0円\" if x in [\"無料\"] else x).apply(extract_number)\n",
    "df_airdoor['age'] = df_airdoor['age'].apply(lambda x: \"築1年\" if x in [\"新築\", \"築0年\"] else x).apply(extract_number)\n",
    "df_airdoor['story'] = df_airdoor['story'].apply(extract_number)\n",
    "df_airdoor['floor'] = df_airdoor['floor'].apply(extract_number)\n",
    "df_airdoor['menseki'] = df_airdoor['menseki'].apply(extract_number)\n",
    "\n",
    "\n",
    "# In[17]:\n",
    "\n",
    "\n",
    "# accessを取得し、「路線」「駅名」「徒歩分数」に分割し、それぞれ「access1_1」「access1_2」「access1_3」に格納する。アクセスは最大2件まで取得する\n",
    "# df_airdoorにカラム追加\n",
    "for i in range(1, 3):\n",
    "    for j in range(1, 4):\n",
    "        df_airdoor[f'access{i}_{j}'] = ''\n",
    "df_airdoor.head()\n",
    "# 行ごとにテキストを分解してカラムに格納\n",
    "for index, row in df_airdoor.iterrows():\n",
    "    accesses = row['access'].split(',')[:3] # アクセス情報をコンマで分割し、最大3つまで取得\n",
    "    for i, access in enumerate(accesses, start=1):\n",
    "        match = re.match(r'(.+?)\\s+(.+?)\\s+徒歩(\\d+)分', access.strip()) # 正規表現でテキストを解析\n",
    "        if match:\n",
    "            df_airdoor.at[index, f'access{i}_1'] = match.group(1)\n",
    "            df_airdoor.at[index, f'access{i}_2'] = match.group(2)\n",
    "            df_airdoor.at[index, f'access{i}_3'] = match.group(3)\n",
    "\n",
    "\n",
    "# In[26]:\n",
    "\n",
    "\n",
    "# 複数のスクレイピングデータを統合、重複物件を排除する場合はここで\n",
    "df_scraped = df_airdoor\n",
    "\n",
    "# 共通データを付与\n",
    "from datetime import datetime\n",
    "current_time = datetime.now().strftime('%Y-%m-%d %H:%M')\n",
    "df_scraped['scraped_date_time'] = current_time\n",
    "df_scraped['daily_decreased_room'] = None\n",
    "df_scraped['weekly_decreased_room'] = None\n",
    "df_scraped['evaluation_score'] = None\n"
   ]
  },
  {
   "cell_type": "code",
   "execution_count": 6,
   "metadata": {},
   "outputs": [
    {
     "name": "stdout",
     "output_type": "stream",
     "text": [
      "                   title      address  \\\n",
      "0      プレール・ドゥーク木場公園ＷＥＳＴ  東京都江東区平野３丁目   \n",
      "1            プライムメゾン清澄白河  東京都江東区平野２丁目   \n",
      "2            プライムメゾン清澄白河  東京都江東区平野２丁目   \n",
      "3            プライムメゾン清澄白河  東京都江東区平野２丁目   \n",
      "4               リビオメゾン木場  東京都江東区木場６丁目   \n",
      "...                  ...          ...   \n",
      "1743               ペルル亀戸  東京都江東区亀戸４丁目   \n",
      "1744          シーズンフラッツ木場  東京都江東区木場３丁目   \n",
      "1745          シーズンフラッツ木場  東京都江東区木場３丁目   \n",
      "1746          シーズンフラッツ木場  東京都江東区木場３丁目   \n",
      "1747   S-RESIDENCE亀戸lume  東京都江東区大島２丁目   \n",
      "\n",
      "                                        access  age  story  floor room_number  \\\n",
      "0     東京メトロ半蔵門線 清澄白河駅 徒歩8分, 都営大江戸線 清澄白河駅 徒歩11分  1.0    8.0    6.0       603号室   \n",
      "1     都営大江戸線 清澄白河駅 徒歩10分, 東京メトロ東西線 門前仲町駅 徒歩11分  1.0    7.0    2.0      0203号室   \n",
      "2     都営大江戸線 清澄白河駅 徒歩10分, 東京メトロ東西線 門前仲町駅 徒歩11分  1.0    7.0    2.0      0201号室   \n",
      "3     都営大江戸線 清澄白河駅 徒歩10分, 東京メトロ東西線 門前仲町駅 徒歩11分  1.0    7.0    5.0      0507号室   \n",
      "4       東京メトロ東西線 木場駅 徒歩4分, 東京メトロ東西線 東陽町駅 徒歩15分  1.0   10.0    8.0       802号室   \n",
      "...                                        ...  ...    ...    ...         ...   \n",
      "1743      ＪＲ総武線 亀戸駅 徒歩6分, 東京メトロ半蔵門線 錦糸町駅 徒歩16分  5.0   11.0   11.0      1101号室   \n",
      "1744                         東京メトロ東西線 木場駅 徒歩8分  1.0    9.0    8.0       805号室   \n",
      "1745                         東京メトロ東西線 木場駅 徒歩8分  1.0    9.0    6.0       605号室   \n",
      "1746                         東京メトロ東西線 木場駅 徒歩8分  1.0    9.0    5.0       505号室   \n",
      "1747           ＪＲ総武線 亀戸駅 徒歩7分, 都営新宿線 西大島駅 徒歩6分  1.0   12.0    6.0       603号室   \n",
      "\n",
      "        fee  management_fee  deposit  ...  access1_1 access1_2  access1_3  \\\n",
      "0     12.40             1.0     12.4  ...  東京メトロ半蔵門線     清澄白河駅          8   \n",
      "1     11.60             1.0      0.0  ...     都営大江戸線     清澄白河駅         10   \n",
      "2     17.60             1.0      0.0  ...     都営大江戸線     清澄白河駅         10   \n",
      "3     11.80             1.0      0.0  ...     都営大江戸線     清澄白河駅         10   \n",
      "4     11.40             1.5     11.4  ...   東京メトロ東西線       木場駅          4   \n",
      "...     ...             ...      ...  ...        ...       ...        ...   \n",
      "1743   9.30             1.0      0.0  ...      ＪＲ総武線       亀戸駅          6   \n",
      "1744  20.00             1.5     20.0  ...   東京メトロ東西線       木場駅          8   \n",
      "1745  19.80             1.5     19.8  ...   東京メトロ東西線       木場駅          8   \n",
      "1746  19.60             1.5     19.6  ...   東京メトロ東西線       木場駅          8   \n",
      "1747   9.25             1.2      9.3  ...      ＪＲ総武線       亀戸駅          7   \n",
      "\n",
      "      access2_1 access2_2 access2_3 scraped_date_time daily_decreased_room  \\\n",
      "0        都営大江戸線     清澄白河駅        11  2024-01-16 12:01                 None   \n",
      "1      東京メトロ東西線     門前仲町駅        11  2024-01-16 12:01                 None   \n",
      "2      東京メトロ東西線     門前仲町駅        11  2024-01-16 12:01                 None   \n",
      "3      東京メトロ東西線     門前仲町駅        11  2024-01-16 12:01                 None   \n",
      "4      東京メトロ東西線      東陽町駅        15  2024-01-16 12:01                 None   \n",
      "...         ...       ...       ...               ...                  ...   \n",
      "1743  東京メトロ半蔵門線      錦糸町駅        16  2024-01-17 08:32                 None   \n",
      "1744                                 2024-01-17 08:32                 None   \n",
      "1745                                 2024-01-17 08:32                 None   \n",
      "1746                                 2024-01-17 08:32                 None   \n",
      "1747      都営新宿線      西大島駅         6  2024-01-17 08:32                 None   \n",
      "\n",
      "     weekly_decreased_room evaluation_score  \n",
      "0                     None             None  \n",
      "1                     None             None  \n",
      "2                     None             None  \n",
      "3                     None             None  \n",
      "4                     None             None  \n",
      "...                    ...              ...  \n",
      "1743                  None             None  \n",
      "1744                  None             None  \n",
      "1745                  None             None  \n",
      "1746                  None             None  \n",
      "1747                  None             None  \n",
      "\n",
      "[1748 rows x 23 columns]\n"
     ]
    }
   ],
   "source": [
    "# データを読み込んでdf_dbに格納\n",
    "db_path = 'techone_2.db'\n",
    "conn = sqlite3.connect(db_path)\n",
    "query = 'SELECT * FROM techone_db;'\n",
    "df_db = pd.read_sql_query(query, conn)\n",
    "conn.close()"
   ]
  },
  {
   "cell_type": "code",
   "execution_count": 9,
   "metadata": {},
   "outputs": [
    {
     "data": {
      "text/plain": [
       "(436, 23)"
      ]
     },
     "execution_count": 9,
     "metadata": {},
     "output_type": "execute_result"
    }
   ],
   "source": [
    "# df_dbのうち、最新のもののみをdf_db_1に格納\n",
    "last_datetime = df_db['scraped_date_time'].max()\n",
    "df_db_1 = df_db[df_db['scraped_date_time']==last_datetime]"
   ]
  },
  {
   "cell_type": "code",
   "execution_count": 10,
   "metadata": {},
   "outputs": [],
   "source": [
    "df_marged = pd.merge(df_db_1, df_scraped, on=['title', 'address', 'room_number'], how='left', indicator=True)"
   ]
  },
  {
   "cell_type": "code",
   "execution_count": 11,
   "metadata": {},
   "outputs": [
    {
     "data": {
      "text/plain": [
       "(0, 44)"
      ]
     },
     "execution_count": 11,
     "metadata": {},
     "output_type": "execute_result"
    }
   ],
   "source": [
    "df_unique = df_marged[df_marged['_merge']=='left_only']\n",
    "df_unique.shape"
   ]
  },
  {
   "cell_type": "code",
   "execution_count": 12,
   "metadata": {},
   "outputs": [
    {
     "data": {
      "text/html": [
       "<div>\n",
       "<style scoped>\n",
       "    .dataframe tbody tr th:only-of-type {\n",
       "        vertical-align: middle;\n",
       "    }\n",
       "\n",
       "    .dataframe tbody tr th {\n",
       "        vertical-align: top;\n",
       "    }\n",
       "\n",
       "    .dataframe thead th {\n",
       "        text-align: right;\n",
       "    }\n",
       "</style>\n",
       "<table border=\"1\" class=\"dataframe\">\n",
       "  <thead>\n",
       "    <tr style=\"text-align: right;\">\n",
       "      <th></th>\n",
       "      <th>title</th>\n",
       "      <th>address</th>\n",
       "      <th>access_x</th>\n",
       "      <th>age_x</th>\n",
       "      <th>story_x</th>\n",
       "      <th>floor_x</th>\n",
       "      <th>room_number</th>\n",
       "      <th>fee_x</th>\n",
       "      <th>management_fee_x</th>\n",
       "      <th>deposit_x</th>\n",
       "      <th>...</th>\n",
       "      <th>access1_2_y</th>\n",
       "      <th>access1_3_y</th>\n",
       "      <th>access2_1_y</th>\n",
       "      <th>access2_2_y</th>\n",
       "      <th>access2_3_y</th>\n",
       "      <th>scraped_date_time_y</th>\n",
       "      <th>daily_decreased_room_y</th>\n",
       "      <th>weekly_decreased_room_y</th>\n",
       "      <th>evaluation_score_y</th>\n",
       "      <th>_merge</th>\n",
       "    </tr>\n",
       "  </thead>\n",
       "  <tbody>\n",
       "  </tbody>\n",
       "</table>\n",
       "<p>0 rows × 44 columns</p>\n",
       "</div>"
      ],
      "text/plain": [
       "Empty DataFrame\n",
       "Columns: [title, address, access_x, age_x, story_x, floor_x, room_number, fee_x, management_fee_x, deposit_x, gratuity_x, madori_x, menseki_x, access1_1_x, access1_2_x, access1_3_x, access2_1_x, access2_2_x, access2_3_x, scraped_date_time_x, daily_decreased_room_x, weekly_decreased_room_x, evaluation_score_x, access_y, age_y, story_y, floor_y, fee_y, management_fee_y, deposit_y, gratuity_y, madori_y, menseki_y, access1_1_y, access1_2_y, access1_3_y, access2_1_y, access2_2_y, access2_3_y, scraped_date_time_y, daily_decreased_room_y, weekly_decreased_room_y, evaluation_score_y, _merge]\n",
       "Index: []\n",
       "\n",
       "[0 rows x 44 columns]"
      ]
     },
     "execution_count": 12,
     "metadata": {},
     "output_type": "execute_result"
    }
   ],
   "source": [
    "df_unique[df_unique['title'].str.contains('シーズンフラッツ木場')]"
   ]
  },
  {
   "cell_type": "code",
   "execution_count": null,
   "metadata": {},
   "outputs": [],
   "source": [
    "# df_dbの最新レコードに、daily_decreased_roomの値を追加。df_uniqueのレコード数をtitle、addressをキーにカウント → df_dbと左結合 → df_dbの最新レコードにのみ、daily_decreased_roomにcountを代入\n",
    "\n",
    "# ステップ 1: 'title' と 'address' の組み合わせごとにレコード数をカウント\n",
    "count_df_unique = df_unique.groupby(['title', 'address']).size().reset_index(name='count')\n",
    "\n",
    "# ステップ 2: このカウントを df_db にマージ（左結合）\n",
    "df_db_merged = pd.merge(df_db, count_df_unique, on=['title', 'address'], how='left')\n",
    "\n",
    "# ステップ 3: df_db_mergedのうち、'scraped_date_time'が最大のものにのみ、'count'の値を'daily_decreased_room' に追加\n",
    "last_datetime = df_db_merged['scraped_date_time'].max()\n",
    "df_db_merged.loc[df_db_merged['scraped_date_time'] == last_datetime, 'daily_decreased_room'] = df_db_merged['count']\n",
    "\n",
    "# 必要に応じて、マージした後のデータフレームから不要なカラムを削除\n",
    "df_db_merged.drop(columns=['count'], inplace=True)"
   ]
  },
  {
   "cell_type": "code",
   "execution_count": 36,
   "metadata": {},
   "outputs": [],
   "source": [
    "df_db_combined_1 = df_db_merged\n",
    "# 'title', 'address', 'scraped_date_time'をキーに重複行を削除\n",
    "df_db_combined_1_unique = df_db_combined_1.drop_duplicates(subset=['title', 'address', 'scraped_date_time'])"
   ]
  },
  {
   "cell_type": "code",
   "execution_count": 41,
   "metadata": {},
   "outputs": [],
   "source": [
    "# 'weekly_decreased_room'に、'title', 'address'が同値の'scraped_date_time'の合計を代入する\n",
    "df_db_combined_1_unique.loc[:, 'weekly_decreased_room'] = df_db_combined_1_unique.groupby(['title', 'address'])['daily_decreased_room'].transform('sum')"
   ]
  },
  {
   "cell_type": "code",
   "execution_count": 61,
   "metadata": {},
   "outputs": [],
   "source": [
    "# 元のdf_dbに daily_decreased_room と weekly_decreased_room を追加する\n",
    "df_db_merged = pd.merge(df_db, df_db_combined_1_unique[['title', 'address', 'scraped_date_time', 'daily_decreased_room', 'weekly_decreased_room']],on=['title', 'address', 'scraped_date_time'], how='left', suffixes=('', '_1'))\n",
    "df_db['daily_decreased_room'] = df_db_merged['daily_decreased_room_1']\n",
    "df_db['weekly_decreased_room'] = df_db_merged['weekly_decreased_room_1']\n",
    "\n",
    "# weekly_decreased_roomの値に応じて、evaluation_scoreの値を代入\n",
    "import numpy as np\n",
    "\n",
    "# 条件を設定\n",
    "conditions = [\n",
    "    df_db['weekly_decreased_room'] < 5,  # weekly_decreased_roomが5より小さい\n",
    "    df_db['weekly_decreased_room'].between(5, 10),  # weekly_decreased_roomが5〜10の間\n",
    "    df_db['weekly_decreased_room'] > 10  # weekly_decreased_roomが10より大きい\n",
    "]\n",
    "\n",
    "# 各条件に対する値を設定\n",
    "values = [1, 2, 3]\n",
    "\n",
    "# numpy.selectを使用して条件に基づく値を設定\n",
    "df_db['evaluation_score'] = np.select(conditions, values, default=np.nan)"
   ]
  },
  {
   "cell_type": "code",
   "execution_count": 63,
   "metadata": {},
   "outputs": [],
   "source": [
    "# scraped_date_timeが最大のものだけ取り出す。これが最終的に欲しかったdfとなる\n",
    "last_datetime = df_db['scraped_date_time'].max()\n",
    "df_db_with_value = df_db[df_db['scraped_date_time']==last_datetime]"
   ]
  },
  {
   "cell_type": "code",
   "execution_count": 65,
   "metadata": {},
   "outputs": [],
   "source": [
    "conn = sqlite3.connect('techone_2.db')\n",
    "\n",
    "# DataFrameのインデックスをカラムに変換\n",
    "df_with_index = df_db_with_value.reset_index().rename(columns={'index': 'index_column'})\n",
    "\n",
    "for index, row in df_with_index.iterrows():\n",
    "    sql = \"\"\"UPDATE techone_db\n",
    "            SET daily_decreased_room = ?,\n",
    "                weekly_decreased_room = ?,\n",
    "                evaluation_score = ?\n",
    "            WHERE title = ? AND address = ? AND room_number = ? AND scraped_date_time = ?\"\"\"\n",
    "    conn.execute(sql, (row['daily_decreased_room'], row['weekly_decreased_room'], row['evaluation_score'], row['title'], row['address'], row['room_number'], row['scraped_date_time']))\n",
    "\n",
    "# 変更をコミット\n",
    "conn.commit()\n",
    "\n",
    "# 接続を閉じる\n",
    "conn.close()\n"
   ]
  },
  {
   "cell_type": "code",
   "execution_count": null,
   "metadata": {},
   "outputs": [],
   "source": [
    "# SQLiteデータベースへの接続\n",
    "conn = sqlite3.connect('/Users/ryosukeinoue/Library/CloudStorage/GoogleDrive-ryosuke.inoue0314@gmail.com/マイドライブ/00_本データ/31_Tech0/Step3/techone_new/techone_2.db')\n",
    "\n",
    "# DataFrameをSQLiteデータベースにインポート\n",
    "df_airdoor.to_sql('techone_scraped', conn, if_exists='replace', index=False)\n",
    "\n",
    "# 接続を閉じる\n",
    "conn.close()"
   ]
  },
  {
   "cell_type": "code",
   "execution_count": 60,
   "metadata": {},
   "outputs": [],
   "source": [
    "# SQLiteデータベースへの接続\n",
    "conn = sqlite3.connect('/Users/ryosukeinoue/Library/CloudStorage/GoogleDrive-ryosuke.inoue0314@gmail.com/マイドライブ/00_本データ/31_Tech0/Step3/techone_new/techone_2.db')\n",
    "\n",
    "# DataFrameをSQLiteデータベースにインポート\n",
    "df_scraped.to_sql('techone_db', conn, if_exists='append', index=False)\n",
    "\n",
    "# 接続を閉じる\n",
    "conn.close()"
   ]
  },
  {
   "cell_type": "code",
   "execution_count": null,
   "metadata": {},
   "outputs": [],
   "source": []
  }
 ],
 "metadata": {
  "kernelspec": {
   "display_name": "techone_new",
   "language": "python",
   "name": "python3"
  },
  "language_info": {
   "codemirror_mode": {
    "name": "ipython",
    "version": 3
   },
   "file_extension": ".py",
   "mimetype": "text/x-python",
   "name": "python",
   "nbconvert_exporter": "python",
   "pygments_lexer": "ipython3",
   "version": "3.11.7"
  }
 },
 "nbformat": 4,
 "nbformat_minor": 2
}
